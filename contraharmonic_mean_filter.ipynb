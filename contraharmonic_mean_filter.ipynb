{
 "cells": [
  {
   "cell_type": "code",
   "execution_count": null,
   "id": "d614736e",
   "metadata": {},
   "outputs": [],
   "source": [
    "import cv2\n",
    "import numpy as np\n",
    "from matplotlib import pyplot as plt\n",
    "\n",
    "def contraharmonic_mean_filter(image, filter_size, p, q):\n",
    "    # Filtreleme çerçevesinin boyutları\n",
    "    a = filter_size[0] // 2\n",
    "    b = filter_size[1] // 2\n",
    "    \n",
    "    # Filtreleme işlemi\n",
    "    result = np.zeros_like(image, dtype=np.float64)\n",
    "    for i in range(a, image.shape[0] - a):\n",
    "        for j in range(b, image.shape[1] - b):\n",
    "            numerator = np.sum(np.power(image[i-a:i+a+1, j-b:j+b+1], p+1))\n",
    "            denominator = np.sum(np.power(image[i-a:i+a+1, j-b:j+b+1], p))\n",
    "            result[i, j] = numerator / denominator if denominator != 0 else 0\n",
    "    \n",
    "    return np.round(result).astype(np.uint8)\n",
    "\n",
    "# Örnek bir görüntü yükle\n",
    "image_path = 'path_to_your_image.jpg'\n",
    "original_image = cv2.imread(image_path, cv2.IMREAD_GRAYSCALE)\n",
    "\n",
    "# Contraharmonic Mean filtresini uygula\n",
    "filter_size = (3, 3)\n",
    "p = 1  # p parametresi\n",
    "q = -1  # q parametresi\n",
    "filtered_image = contraharmonic_mean_filter(original_image, filter_size, p, q)\n",
    "\n",
    "# Görüntüleri görselleştir\n",
    "plt.figure(figsize=(12, 4))\n",
    "\n",
    "plt.subplot(1, 2, 1)\n",
    "plt.imshow(original_image, cmap='gray')\n",
    "plt.title('Original Image')\n",
    "plt.axis('off')\n",
    "\n",
    "plt.subplot(1, 2, 2)\n",
    "plt.imshow(filtered_image, cmap='gray')\n",
    "plt.title('Contraharmonic Mean Filtered Image')\n",
    "plt.axis('off')\n",
    "\n",
    "plt.show()\n"
   ]
  }
 ],
 "metadata": {
  "kernelspec": {
   "display_name": "Python 3 (ipykernel)",
   "language": "python",
   "name": "python3"
  },
  "language_info": {
   "codemirror_mode": {
    "name": "ipython",
    "version": 3
   },
   "file_extension": ".py",
   "mimetype": "text/x-python",
   "name": "python",
   "nbconvert_exporter": "python",
   "pygments_lexer": "ipython3",
   "version": "3.11.3"
  }
 },
 "nbformat": 4,
 "nbformat_minor": 5
}
