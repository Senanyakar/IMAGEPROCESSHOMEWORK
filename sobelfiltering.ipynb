{
 "cells": [
  {
   "cell_type": "code",
   "execution_count": null,
   "id": "d8d776d1",
   "metadata": {},
   "outputs": [],
   "source": [
    "import cv2\n",
    "import numpy as np\n",
    "from matplotlib import pyplot as plt\n",
    "\n",
    "def sobel_filter(image):\n",
    "    # X ve Y yönlere özgü Sobel filtreleri uygula\n",
    "    sobel_x = cv2.Sobel(image, cv2.CV_64F, 1, 0, ksize=3)\n",
    "    sobel_y = cv2.Sobel(image, cv2.CV_64F, 0, 1, ksize=3)\n",
    "\n",
    "    # Kenar gücünü ve yönünü hesapla\n",
    "    magnitude = np.sqrt(sobel_x**2 + sobel_y**2)\n",
    "    angle = np.arctan2(sobel_y, sobel_x) * (180 / np.pi)\n",
    "\n",
    "    return magnitude, angle\n",
    "\n",
    "# Örnek bir görüntü yükle\n",
    "image_path = 'path_to_your_image.jpg'\n",
    "original_image = cv2.imread(image_path, cv2.IMREAD_GRAYSCALE)\n",
    "\n",
    "# Sobel filtresi uygula\n",
    "magnitude, _ = sobel_filter(original_image)\n",
    "\n",
    "# Görüntüleri görselleştir\n",
    "plt.figure(figsize=(12, 4))\n",
    "\n",
    "plt.subplot(1, 3, 1)\n",
    "plt.imshow(original_image, cmap='gray')\n",
    "plt.title('Original Image')\n",
    "plt.axis('off')\n",
    "\n",
    "plt.subplot(1, 3, 2)\n",
    "plt.imshow(magnitude, cmap='gray')\n",
    "plt.title('Sobel Filtered Image (Magnitude)')\n",
    "plt.axis('off')\n",
    "\n",
    "plt.show()\n"
   ]
  }
 ],
 "metadata": {
  "kernelspec": {
   "display_name": "Python 3 (ipykernel)",
   "language": "python",
   "name": "python3"
  },
  "language_info": {
   "codemirror_mode": {
    "name": "ipython",
    "version": 3
   },
   "file_extension": ".py",
   "mimetype": "text/x-python",
   "name": "python",
   "nbconvert_exporter": "python",
   "pygments_lexer": "ipython3",
   "version": "3.11.3"
  }
 },
 "nbformat": 4,
 "nbformat_minor": 5
}
