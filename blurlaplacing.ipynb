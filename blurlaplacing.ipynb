{
 "cells": [
  {
   "cell_type": "code",
   "execution_count": null,
   "id": "c7508e2f",
   "metadata": {},
   "outputs": [],
   "source": [
    "import cv2\n",
    "import numpy as np\n",
    "from matplotlib import pyplot as plt\n",
    "\n",
    "def apply_blur_and_laplace(image, blur_kernel_size):\n",
    "    # Blurring işlemi\n",
    "    blurred_image = cv2.GaussianBlur(image, (blur_kernel_size, blur_kernel_size), 0)\n",
    "    \n",
    "    # Laplace filtresi uygulama\n",
    "    laplacian = cv2.Laplacian(blurred_image, cv2.CV_64F)\n",
    "    \n",
    "    return blurred_image, laplacian\n",
    "\n",
    "# Örnek bir görüntü yükle\n",
    "image_path = 'path_to_your_image.jpg'\n",
    "original_image = cv2.imread(image_path, cv2.IMREAD_GRAYSCALE)\n",
    "\n",
    "# Blurring işlemi ve ardından Laplace filtresi uygula\n",
    "blur_kernel_size = 5\n",
    "blurred_image, laplacian = apply_blur_and_laplace(original_image, blur_kernel_size)\n",
    "\n",
    "# Görüntüleri görselleştir\n",
    "plt.figure(figsize=(15, 4))\n",
    "\n",
    "plt.subplot(1, 3, 1)\n",
    "plt.imshow(original_image, cmap='gray')\n",
    "plt.title('Original Image')\n",
    "plt.axis('off')\n",
    "\n",
    "plt.subplot(1, 3, 2)\n",
    "plt.imshow(blurred_image, cmap='gray')\n",
    "plt.title('Blurred Image')\n",
    "plt.axis('off')\n",
    "\n",
    "plt.subplot(1, 3, 3)\n",
    "plt.imshow(laplacian, cmap='gray')\n",
    "plt.title('Laplacian Filtered Image')\n",
    "plt.axis('off')\n",
    "\n",
    "plt.show()\n"
   ]
  }
 ],
 "metadata": {
  "kernelspec": {
   "display_name": "Python 3 (ipykernel)",
   "language": "python",
   "name": "python3"
  },
  "language_info": {
   "codemirror_mode": {
    "name": "ipython",
    "version": 3
   },
   "file_extension": ".py",
   "mimetype": "text/x-python",
   "name": "python",
   "nbconvert_exporter": "python",
   "pygments_lexer": "ipython3",
   "version": "3.11.3"
  }
 },
 "nbformat": 4,
 "nbformat_minor": 5
}
