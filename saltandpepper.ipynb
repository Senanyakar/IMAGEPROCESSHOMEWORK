{
 "cells": [
  {
   "cell_type": "code",
   "execution_count": null,
   "id": "bffe268b",
   "metadata": {},
   "outputs": [],
   "source": [
    "import cv2\n",
    "import numpy as np\n",
    "from matplotlib import pyplot as plt\n",
    "\n",
    "def add_salt_and_pepper_noise(image, salt_prob, pepper_prob):\n",
    "    noisy_image = np.copy(image)\n",
    "    total_pixels = image.size\n",
    "\n",
    "    # Salt (beyaz) gürültü ekle\n",
    "    num_salt = np.ceil(salt_prob * total_pixels)\n",
    "    salt_coords = [np.random.randint(0, i-1, int(num_salt)) for i in image.shape]\n",
    "    noisy_image[salt_coords] = 255\n",
    "\n",
    "    # Pepper (siyah) gürültü ekle\n",
    "    num_pepper = np.ceil(pepper_prob * total_pixels)\n",
    "    pepper_coords = [np.random.randint(0, i-1, int(num_pepper)) for i in image.shape]\n",
    "    noisy_image[pepper_coords] = 0\n",
    "\n",
    "    return noisy_image\n",
    "\n",
    "# Örnek bir görüntü yükle\n",
    "image_path = 'path_to_your_image.jpg'\n",
    "original_image = cv2.imread(image_path, cv2.IMREAD_GRAYSCALE)\n",
    "\n",
    "# Salt and Pepper gürültüsü ekle\n",
    "salt_prob = 0.01  # Salt (beyaz) gürültü olasılığı\n",
    "pepper_prob = 0.01  # Pepper (siyah) gürültü olasılığı\n",
    "noisy_image = add_salt_and_pepper_noise(original_image, salt_prob, pepper_prob)\n",
    "\n",
    "# Görüntüleri görselleştir\n",
    "plt.figure(figsize=(12, 4))\n",
    "\n",
    "plt.subplot(1, 2, 1)\n",
    "plt.imshow(original_image, cmap='gray')\n",
    "plt.title('Original Image')\n",
    "plt.axis('off')\n",
    "\n",
    "plt.subplot(1, 2, 2)\n",
    "plt.imshow(noisy_image, cmap='gray')\n",
    "plt.title('Image with Salt and Pepper Noise')\n",
    "plt.axis('off')\n",
    "\n",
    "plt.show()\n"
   ]
  }
 ],
 "metadata": {
  "kernelspec": {
   "display_name": "Python 3 (ipykernel)",
   "language": "python",
   "name": "python3"
  },
  "language_info": {
   "codemirror_mode": {
    "name": "ipython",
    "version": 3
   },
   "file_extension": ".py",
   "mimetype": "text/x-python",
   "name": "python",
   "nbconvert_exporter": "python",
   "pygments_lexer": "ipython3",
   "version": "3.11.3"
  }
 },
 "nbformat": 4,
 "nbformat_minor": 5
}
