{
 "cells": [
  {
   "cell_type": "code",
   "execution_count": 1,
   "id": "46386afd",
   "metadata": {},
   "outputs": [],
   "source": [
    "import cv2\n",
    "import numpy as np\n",
    "import matplotlib.pyplot as plt\n",
    "\n",
    "def bit_plane_slice(image, bit):\n",
    "    # Görüntüyü gri tonlamaya dönüştür\n",
    "    gray_image = cv2.cvtColor(image, cv2.COLOR_BGR2GRAY)\n",
    "\n",
    "    # Belirli bit düzeyindeki değerleri elde et\n",
    "    bit_plane = (gray_image >> bit) & 1\n",
    "\n",
    "    # İlgili bit düzeyindeki piksel değerlerini 0 ve 255'e genişlet\n",
    "    bit_plane *= 255\n",
    "\n",
    "    return bit_plane\n",
    "\n",
    "# Örnek bir görüntü yükle\n",
    "image_path = 'path_to_your_image.jpg'\n",
    "original_image = cv2.imread(image_path)\n",
    "\n",
    "# Bit plane slicing için seçilecek bit düzeyi\n",
    "bit_level = 3\n",
    "\n",
    "# Bit plane slicing uygula\n",
    "bit_plane_image = bit_plane_slice(original_image, bit_level)\n",
    "\n",
    "# Görüntüleri görselleştir\n",
    "plt.figure(figsize=(10, 4))\n",
    "\n",
    "plt.subplot(1, 2, 1)\n",
    "plt.imshow(cv2.cvtColor(original_image, cv2.COLOR_BGR2RGB))\n",
    "plt.title('Original Image')\n",
    "plt.axis('off')\n",
    "\n",
    "plt.subplot(1, 2, 2)\n",
    "plt.imshow(bit_plane_image, cmap='gray')\n",
    "plt.title(f'Bit Plane {bit_level}')\n",
    "plt.axis('off')\n",
    "\n",
    "plt.show()\n"
   ]
  },
  {
   "cell_type": "code",
   "execution_count": null,
   "id": "3fb20a95",
   "metadata": {},
   "outputs": [],
   "source": []
  }
 ],
 "metadata": {
  "kernelspec": {
   "display_name": "Python 3 (ipykernel)",
   "language": "python",
   "name": "python3"
  },
  "language_info": {
   "codemirror_mode": {
    "name": "ipython",
    "version": 3
   },
   "file_extension": ".py",
   "mimetype": "text/x-python",
   "name": "python",
   "nbconvert_exporter": "python",
   "pygments_lexer": "ipython3",
   "version": "3.11.3"
  }
 },
 "nbformat": 4,
 "nbformat_minor": 5
}
